{
 "cells": [
  {
   "cell_type": "markdown",
   "metadata": {
    "colab_type": "text",
    "id": "fGqmzjaAZaA7"
   },
   "source": [
    "# **¿Qué es una simulación?**\n",
    "> Introducción a la materia y descripción de las herramientas computacionales que se van a utilizar a lo largo del curso. \n"
   ]
  },
  {
   "cell_type": "markdown",
   "metadata": {
    "colab_type": "text",
    "id": "GfiVOtuAZaBK"
   },
   "source": [
    "___\n",
    "### Simulación\n",
    "- Es una técnica o conjunto de técnicas que ayudan a entender el comportamiento de un _sistema_ real o hipotético.\n",
    "- Es el proceso de diseñar un **_modelo_** de un **_sistema_** real y llevar experiencias con él, con la finalidad de comprender el comportamiento del sistema o evaluar nuevas estrategias -dentro de los límites impuestos por un cierto criterio o un conjunto de ellos - para el funcionamiento del sistema. [Shannon, Robert; Johannes, James D. (1976)](https://ieeexplore.ieee.org/document/4309432?arnumber=4309432)."
   ]
  },
  {
   "cell_type": "markdown",
   "metadata": {
    "colab_type": "text",
    "id": "QtYqVHY0ZaBV"
   },
   "source": [
    "<img style=\"float:left\" src=\"https://upload.wikimedia.org/wikipedia/commons/thumb/c/c8/Crowd_simulation%2C_Covent_Garden.jpg/640px-Crowd_simulation%2C_Covent_Garden.jpg\" width=\"300px\"/>\n",
    "\n",
    "<img style=\"float:right\" src=\"https://upload.wikimedia.org/wikipedia/commons/thumb/e/ed/Christer_Fuglesang_underwater_EVA_simulation_for_STS-116.jpg/395px-Christer_Fuglesang_underwater_EVA_simulation_for_STS-116.jpg\" width=\"150px\"/>\n",
    "\n",
    "<img style=\"float:center\" src=\"https://upload.wikimedia.org/wikipedia/commons/4/42/Blender3D_CircularWaveAnim.gif\" width=\"300px\"/>"
   ]
  },
  {
   "cell_type": "markdown",
   "metadata": {
    "colab_type": "text",
    "id": "lHmGK7nTZaBh"
   },
   "source": [
    "___\n",
    "**¿Qué es un sistema?**\n",
    "+ Colección de objetos, partes, componentes, etc., que interactúan entre si, dentro de una cierta frontera, para producir un patrón particular de comportamiento. \n",
    "    - Frontera: Es necesaria esta idea para separar al sistema del resto del universo, para mantener la tarea de estudiar su comportamiento dentro de los límites razonables. "
   ]
  },
  {
   "cell_type": "markdown",
   "metadata": {
    "colab_type": "text",
    "id": "Lo8u9BJlZaBr"
   },
   "source": [
    "___\n",
    "**¿Qué es un modelo?**\n",
    "+ Físicos (réplicas) \n",
    "+ Abstractos (Modelos matemáticos)\n",
    "    \n",
    "_Tipos_ \n",
    "- Deterministas o estocásticos. \n",
    "- Dinámicos o estacionarios."
   ]
  },
  {
   "cell_type": "markdown",
   "metadata": {
    "colab_type": "text",
    "id": "62-fUZaDZaB2"
   },
   "source": [
    "___\n",
    "**¿Por qué hacer simulación?**\n",
    "\n",
    "- Reducción de costos: la simulación es mucho menos costosa que la experimentación en la vida real.\n",
    "- Se pueden probar diferentes ideas en un mismo escenario.\n",
    "- Se puede determinar el impacto potencial de eventos aleatorios (inversión).\n",
    "- Evaluar si ciertos procesos son viables (determinar el impacto a largo plazo).\n",
    "- ..."
   ]
  },
  {
   "cell_type": "markdown",
   "metadata": {
    "colab_type": "text",
    "id": "9sfHjbtLZaB_"
   },
   "source": [
    "<img style=\"center\" src=\"https://upload.wikimedia.org/wikipedia/commons/4/4a/FAE_visualization.jpg\" width=\"350px\" height=\"200px\" alt=\"atom\" />"
   ]
  },
  {
   "cell_type": "markdown",
   "metadata": {
    "colab_type": "text",
    "id": "g62VVVgLZaCK"
   },
   "source": [
    "_Referencia:_ \n",
    "_Simulation Fundamentals,  B. S. Bennett_\n",
    "\n"
   ]
  },
  {
   "cell_type": "markdown",
   "metadata": {
    "colab_type": "text",
    "id": "85hg7vyhZaCS"
   },
   "source": [
    "____\n",
    "### Herramientas computacionales"
   ]
  },
  {
   "cell_type": "markdown",
   "metadata": {
    "colab_type": "text",
    "id": "OqumopggZaCW"
   },
   "source": [
    "### - [python](https://www.python.org) - [Anaconda](https://www.continuum.io/downloads) - [Jupyter](http://jupyter.org)"
   ]
  },
  {
   "cell_type": "markdown",
   "metadata": {
    "colab_type": "text",
    "id": "VM1o5vA4ZaCf"
   },
   "source": [
    " <div>\n",
    "<img style=\"float: left; margin: 0px 0px 15px 15px;\" src=\"https://www.python.org/static/community_logos/python-logo.png\" width=\"200px\" height=\"200px\" alt=\"atom\" />\n",
    "<img style=\"float: left; margin: 0px 0px 15px 15px;\" src=\"https://upload.wikimedia.org/wikipedia/en/c/cd/Anaconda_Logo.png\" width=\"120\" />\n",
    "<img style=\"float: left; margin: 0px 0px 15px 15px;\" src=\"http://jupyter.org/assets/main-logo.svg\" width=\"80\" />\n"
   ]
  },
  {
   "cell_type": "markdown",
   "metadata": {
    "colab_type": "text",
    "id": "FJwQxzHvZaCm"
   },
   "source": [
    "___\n",
    "# Instalar ANACONDA."
   ]
  },
  {
   "cell_type": "markdown",
   "metadata": {
    "colab_type": "text",
    "id": "Oq0pkFNfZaCr"
   },
   "source": [
    "___\n",
    "## Herramientas adicionales"
   ]
  },
  {
   "cell_type": "markdown",
   "metadata": {
    "colab_type": "text",
    "id": "cGhBfKoSZaCw"
   },
   "source": [
    "- [Markdown](https://confluence.atlassian.com/bitbucketserver/markdown-syntax-guide-776639995.html), [Tutorial](https://commonmark.org/help/tutorial/)\n",
    "- [git](https://git-scm.com)\n",
    "- [GitHub](https://github.com)"
   ]
  },
  {
   "cell_type": "markdown",
   "metadata": {
    "colab_type": "text",
    "id": "vsRlrTEoZaC0"
   },
   "source": [
    "___\n",
    "### Jupyter Notebook"
   ]
  },
  {
   "cell_type": "markdown",
   "metadata": {
    "colab_type": "text",
    "id": "LIV601uyZaC7"
   },
   "source": [
    "- Aprender a usar el jupyter notebook\n",
    "\n",
    "Los notebooks tienen celdas de entrada y generalmente celdas de salida, así como celdas de texto. Las celdas de texto es lo que estas leyendo ahora. Las celdas de código inician con \"In []:\" con algún numero en los brackets. Si te colocas sobre una celda de entrada y presionas Shift-Enter, el código correrá en el **intérprete** de python y el resultado se imprimirá en la celda de salida. "
   ]
  },
  {
   "cell_type": "markdown",
   "metadata": {
    "colab_type": "text",
    "id": "Ree69WiLZaDB"
   },
   "source": [
    "**Trabajando con el notebook de jupyter**"
   ]
  },
  {
   "cell_type": "markdown",
   "metadata": {
    "colab_type": "text",
    "id": "1pkjIa-FZaDE"
   },
   "source": [
    "Además de poder realizar programación, tiene otras ventajas. Como ya se dieron cuenta toda esta presentación esta hecha con el notebook. Además de eso, también se puede incluir directamente dentro de este documento, código <font color=\"blue\"> HTML </font>. \n",
    "\n",
    "Uno de los atractivos más relevantes (personalmente) es que puedes escribir ecuaciones estilo $\\LaTeX$, esto es gracias al proyecto [MathJax](https://www.mathjax.org) el cual se especializa en que podamos publicar matemáticas en línea. A continuación, se muestra una ejemplo. "
   ]
  },
  {
   "cell_type": "markdown",
   "metadata": {
    "colab_type": "text",
    "id": "EMx1D9OvZaDI"
   },
   "source": [
    "___\n",
    ">Ecuaciones de Maxwell:\n",
    ">$$\\nabla\\cdot \\mathbf{D}=\\rho\\quad \\nabla\\cdot \\mathbf{B}=0\\quad \\nabla\\times \\mathbf{E}=-\\frac{\\partial \\mathbf{B}}{\\partial t}\\quad \\nabla\\times \\mathbf{H} = \\mathbf{J} +\\frac{\\partial \\mathbf{D}}{\\partial t}$$\n",
    "\n",
    "___"
   ]
  },
  {
   "cell_type": "markdown",
   "metadata": {
    "colab_type": "text",
    "id": "efD_cbBSZaDM"
   },
   "source": [
    "___\n",
    ">Ecuación de Bernoulli:\n",
    ">$$P_1+\\frac{1}{2}\\rho v_1^2+\\rho g h_1=P_2+\\frac{1}{2}\\rho v_2^2+\\rho g h_2,$$\n",
    ">donde:\n",
    ">- $P_1$, $v_1$ y $h_1$ es la presión, la velocidad y la altura en el punto 1,\n",
    ">- $P_2$, $v_2$ y $h_2$ es la presión, la velocidad y la altura en el punto 2,\n",
    ">- $\\rho$ es la densidad del fluido, y\n",
    ">- $g$ es la aceleración de gravedad.\n",
    "\n",
    "___\n",
    "\n",
    "https://es.khanacademy.org/science/physics/fluids/fluid-dynamics/a/what-is-bernoullis-equation"
   ]
  },
  {
   "cell_type": "markdown",
   "metadata": {
    "colab_type": "text",
    "id": "B8x2FRz1ZaDP"
   },
   "source": [
    "___\n",
    ">Capitalización por *interés compuesto*:\n",
    ">$$C_k=C_0(1+i)^k,$$\n",
    ">donde:\n",
    ">- $C_k$ es el capital al final del $k$-ésimo periodo,\n",
    ">- $C_0$ es el capital inicial,\n",
    ">- $i$ es la tasa de interés pactada, y\n",
    ">- $k$ es el número de periodos.\n",
    "\n",
    "___\n",
    "https://es.wikipedia.org/wiki/Inter%C3%A9s_compuesto"
   ]
  },
  {
   "cell_type": "markdown",
   "metadata": {
    "colab_type": "text",
    "id": "gp93HjYPZaDU"
   },
   "source": [
    "#### Archivos de python (script)\n",
    "- Estos son simplemente archivos de texto con la extensión .py\n",
    "     - user $ python miprograma.py\n",
    "- Cada linea en el archivo es una declaración de código en python, o parte del código. "
   ]
  },
  {
   "cell_type": "markdown",
   "metadata": {
    "colab_type": "text",
    "id": "9c7gpLNcZaDZ"
   },
   "source": [
    "#### Programa de bienvenida. \n",
    "welcome.py"
   ]
  },
  {
   "cell_type": "code",
   "execution_count": null,
   "metadata": {
    "colab": {},
    "colab_type": "code",
    "id": "62q48F1yZaDe"
   },
   "outputs": [
    {
     "name": "stdout",
     "output_type": "stream",
     "text": [
      "Hola, bienvenida o bienvenido a simulación matemática. Me puedes llamar Alice y me gustaría saber un poco acerca de ti, por ejemplo ¿Cuál es tu nombre? "
     ]
    }
   ],
   "source": [
    "%run welcome.py"
   ]
  },
  {
   "cell_type": "markdown",
   "metadata": {
    "colab_type": "text",
    "id": "dPLwQJvoZaDq"
   },
   "source": [
    "___\n",
    "### ¿Por qué Python?\n",
    " \n",
    "- http://anewdomain.net/spotlight-should-you-invest-in-python-training/ \n",
    "- https://www.techrepublic.com/article/why-python-is-so-popular-with-developers-3-reasons-the-language-has-exploded/\n",
    "- https://www.zdnet.com/article/programming-language-of-the-year-python-is-standout-in-latest-rankings/\n",
    "- https://www.economist.com/graphic-detail/2018/07/26/python-is-becoming-the-worlds-most-popular-coding-language\n",
    "- https://www.economist.com/science-and-technology/2018/07/19/python-has-brought-computer-programming-to-a-vast-new-audience\n",
    "- https://medium.com/@mindfiresolutions.usa/python-7-important-reasons-why-you-should-use-python-5801a98a0d0b\n",
    "- https://www.pluralsight.com/blog/software-development/why-python"
   ]
  },
  {
   "cell_type": "markdown",
   "metadata": {
    "colab_type": "text",
    "id": "VdSyICtPZaDw"
   },
   "source": [
    "## **Actividad:** \n",
    "Realizar una presentación personal haciendo uso de la sintaxis `Markdown`. Como mínimo debe tener los siguientes componentes:\n",
    "\n",
    "- Foto actualizada\n",
    "- Fecha y lugar de nacimiento\n",
    "- Ciudad de origen\n",
    "- Familia (Integrantes)\n",
    "- Aspiraciones\n",
    "- Hobbies (¿En qué invierte el tiempo libre?)\n",
    "- Música favorita\n",
    "- ¿Qué nuevos talentos/habilidades ha explorado en cuarentena?\n",
    "- **Motivo de elección de la carrera**\n",
    "\n",
    "Cualquier otro componente extra, redacción, elocuencia y/o uso creativo de la sintaxis `Markdown`, será tomado en cuenta para la calificación.\n",
    "\n",
    "Adicional, deben incluir un resumen de  al menos dos de los artículos propuestos.\n",
    "\n",
    "### NOTA: El nombre del archivo debe ser el siguiente T1PrimerNombrePrimerApellido, en mi caso sería T1CristianZapata"
   ]
  },
  {
   "cell_type": "markdown",
   "metadata": {},
   "source": [
    "### Subir el archivo .rar o .zip al espacio habilitado en canvas. \n",
    "###  Fecha viernes 27 de agosto de 2021 a las 6:55 am"
   ]
  },
  {
   "cell_type": "markdown",
   "metadata": {},
   "source": [
    "# `git`, `GitHub`, `GitKraken`\n",
    "\n",
    "<img style=\"float: left; margin: 15px 15px 15px 15px;\" src=\"http://conociendogithub.readthedocs.io/en/latest/_images/Git.png\" width=\"180\" height=\"50\" />\n",
    "<img style=\"float: left; margin: 15px 15px 15px 15px;\" src=\"https://c1.staticflickr.com/3/2238/13158675193_2892abac95_z.jpg\" title=\"github\" width=\"180\" height=\"50\" />\n",
    "<img style=\"float: left; margin: 15px 15px 15px 15px;\" src=\"https://1v5ymx3zt3y73fq5gy23rtnc-wpengine.netdna-ssl.com/wp-content/uploads/2021/06/gitkraken-logo-dark-sq.png\" title=\"gitkraken\" width=\"180\" height=\"50\" />"
   ]
  },
  {
   "attachments": {},
   "cell_type": "markdown",
   "metadata": {},
   "source": [
    "___\n",
    "## ¿Qué es un sistema de control de versiones?\n",
    "\n",
    "<img style=\"float: left; margin: 15px 15px 15px 15px;\" src=\"Meme.jpg\" width=\"210\" height=\"60\" />\n",
    "\n",
    "\n",
    "Un sistema de control de versiones (ó VCS por sus siglas en inglés), da segumiento al historial de cambios, personas y equipos que colaboraron en un proyecto. A medida que el proyecto evoluciona, los equipos pueden realizar pruebas, arreglar errores, y contribuir con nuevo código con la confianza de que cualquier versión puede ser recuperada en cualquier momento.\n",
    "\n",
    "Los desarrolladores pueden revisar el historial del proyecto para encontrar:\n",
    "\n",
    "- ¿Qué cambios se han realizado?\n",
    "- ¿Quién hizo esos cambios?\n",
    "- ¿Cuándo fueron realizados esos cambios?\n",
    "- ¿Por qué esos cambios son necesarios?"
   ]
  },
  {
   "cell_type": "markdown",
   "metadata": {},
   "source": [
    "___\n",
    "## ¿Qué es `git`?\n",
    "<img style=\"float: right; margin: 15px 15px 15px 15px;\" src=\"http://conociendogithub.readthedocs.io/en/latest/_images/Git.png\" title=\"git\" width=\"180\" height=\"50\">\n",
    "\n",
    "+ `git` es un software (de código abierto) de control de versiones diseñado por *Linus Torvalds*, pensando en la eficiencia y la confiabilidad del mantenimiento de versiones de aplicaciones cuando éstas tienen un gran número de archivos de código fuente.\n",
    "\n",
    "+ Su propósito es llevar registro de los cambios en archivos de computadora y coordinar el trabajo que varias personas realizan sobre archivos compartidos.\n",
    "\n",
    "### ¿Por qué usar `git`?\n",
    "+ `git` es comúnmente usado para desarrollo de software tanto de código abierto como para uso comercial, con grandes beneficios para inidivduos, equipos y negocios.\n",
    "\n",
    "+ `git` permite a los desarrolladores ver toda la línea de tiempo de sus cambios, decisiones y progreso de cualquier proyecto en un solo lugar. Desde el momento en que ellos acceden al historial de un proyecto, el desarrollador tiene todo el contexto que ellos necesitan para entender el proyecto y empezar sus contribuciones.\n",
    "\n",
    "+ Los desarrolladores trabajan en todas las zonas horarias. Con `git`, las colaboraciones pueden ocurrir en cualquier momento manteniendo la integridad del código fuente. Usando ramas, los desarrolladores pueden proponer cambios de manera segura."
   ]
  },
  {
   "cell_type": "markdown",
   "metadata": {},
   "source": [
    "### ¿Qué es un repositorio?\n",
    "\n",
    "Un **repositorio** (o un proyecto de `git`) engloba la colección entera de archivos y carpetas asociados con un proyecto, junto con cada archivo del historial de revisión. El archivo de historial aparece en la línea temporal llamado **commits** , y los *commits* existen como una relación en una lista enlazada, y pueden ser organizados en múltiples línes de desarrollos llamadas **branches**. \n",
    "\n",
    "Usando líneas de comando o una interfaz gráfica, un **repositorio** permite: Interactuar con el historial, clonar, crear ramificaciones (branches), realizar *commit*, unificaciones de ramas (**merge**), comparar cambios entre versiones del código, etc."
   ]
  },
  {
   "cell_type": "markdown",
   "metadata": {},
   "source": [
    "___\n",
    "## ¿Qué es `GitHub`?\n",
    "<img style=\"float: right; margin: 15px 15px 15px 15px;\" src=\"https://c1.staticflickr.com/3/2238/13158675193_2892abac95_z.jpg\" title=\"github\" width=\"180\" height=\"50\">\n",
    "\n",
    "`git` es independiente de `GitHub`, y es el programa que se usa para gestionar todos los cambios en las versiones de un proyecto (individual o colaborativo, local o de acceso remoto).\n",
    "\n",
    "`GitHub` es una compañía que ofrece servicios de *hosting* para repositorios de `git`, y es la forma más popular para trabajar con el control de versiones que brinda `git` de forma colaborativa. En pocas palabras, permite que tanto tú como otras personas del mundo trabajen juntos en proyectos, haciendo control de versiones con `git`.\n",
    "\n",
    "De forma que usando `git` y `GitHub` en conjunto se puede trabajar tanto:\n",
    "- De forma local: repositorios en tu equipo, sin necesidad de conexión a internet (usando únicamente `git`).\n",
    "- De forma remota: repositorios remotos (compartidos) que no están necesariamente en tu máquina."
   ]
  },
  {
   "cell_type": "markdown",
   "metadata": {},
   "source": [
    "___\n",
    "##  `GitKraken`\n",
    "\n",
    "<img style=\"float: right; margin: 15px 15px 15px 15px;\" src=\"https://1v5ymx3zt3y73fq5gy23rtnc-wpengine.netdna-ssl.com/wp-content/uploads/2021/06/gitkraken-logo-dark-sq.png\" title=\"gitkraken\" width=\"180\" height=\"50\">\n",
    "\n",
    "+ Todos los procedimientos con `git` se pueden correr desde la *consola*. Sin embargo, este modo de utilizar `git` puede ser tedioso para algunos (esto no solo ocurre con `git`).\n",
    "\n",
    "+ Por ello, `git` viene con algunas herramientas *GUI* (Graphical User Interface) por defecto con su instalación. Aún así, existen varias GUI desarrolladas por otras compañías para brindar una experiencia más cómoda según el sistema operativo.\n",
    "\n",
    "+ `GitKraken` es entonces una de estas GUI, **gratuita para el uso no comercial**, que tiene versiones para los sistemas operativos *Windows*, *Mac* y *Linux*. La estaremos usando en el curso por su versatilidad.\n",
    "\n",
    "\n",
    "Como ejemplo, van a seguir el proyecto de la asignatura **SimMat2021-2**.\n",
    "\n",
    "Los siguientes pasos nos enseñarán como mantener nuestro repositorio local actualizado con el repositorio de la asignatura.\n",
    "1. Entrar al repositorio https://github.com/zapatacc/SimMat2021-2.\n",
    "2. En la esquina superior derecha, dar click en *fork* y esperar un momento. Esta acción copia en su cuenta de `GitHub` un repositorio idéntico al de la materia (con el mismo nombre).\n",
    "3. Desde `GitKraken`, clonar el repositorio (el que ya está en su cuenta).\n",
    "4. En la pestaña *REMOTE* dar click en el signo `+`.\n",
    "    - Presionar en `GitHub`.\n",
    "    - Desplegar la pestaña y elegir zapatacc/SimMat2021-2.\n",
    "    - Presionar en *Add remote*.\n",
    "5. <font color=red>Añadiré un nuevo archvo en el repositorio de la materia y ustedes verán qué pasa en `GitKraken`</font>.\n",
    "6. Arrastrar el repositorio remoto ajeno a la rama *master* y dar click en la opción *Merge zapatacc/master into master*. Ya el repositorio local está actualizado.\n",
    "7. Para actualizar el repositorio remoto propio hacer un *push*."
   ]
  }
 ],
 "metadata": {
  "anaconda-cloud": {},
  "colab": {
   "name": "Clase1_IntroSim.ipynb",
   "provenance": []
  },
  "kernelspec": {
   "display_name": "Python 3",
   "language": "python",
   "name": "python3"
  },
  "language_info": {
   "codemirror_mode": {
    "name": "ipython",
    "version": 3
   },
   "file_extension": ".py",
   "mimetype": "text/x-python",
   "name": "python",
   "nbconvert_exporter": "python",
   "pygments_lexer": "ipython3",
   "version": "3.8.9"
  }
 },
 "nbformat": 4,
 "nbformat_minor": 1
}
