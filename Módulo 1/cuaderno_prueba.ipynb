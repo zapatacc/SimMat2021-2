{
 "cells": [
  {
   "cell_type": "markdown",
   "id": "003a60dd",
   "metadata": {},
   "source": [
    "Hola mundo, mi nombre es Cristian.\n",
    "\n",
    "**_Bienvenidos_** al curso de **Simulación Matemática** Otoño 2021"
   ]
  },
  {
   "cell_type": "code",
   "execution_count": 1,
   "id": "51a74cfa",
   "metadata": {},
   "outputs": [],
   "source": [
    "import numpy as np"
   ]
  },
  {
   "cell_type": "markdown",
   "id": "37634579",
   "metadata": {},
   "source": [
    "En la celda de arriba escribí código de python"
   ]
  },
  {
   "cell_type": "markdown",
   "id": "fe6b1ae7",
   "metadata": {},
   "source": [
    "# <font color=red>_Este es un título nivel 1_ de color rojo</font>\n",
    "\n",
    "## Ahora **uno** de nivel 2\n",
    "\n",
    "### Nivel 3\n",
    "\n",
    "##### Nivel 4\n",
    "\n",
    "###### Nivel 5\n",
    "\n",
    "\n",
    "Otro título\n",
    "=======\n",
    "\n",
    "otro nivel 2\n",
    "---"
   ]
  },
  {
   "cell_type": "markdown",
   "id": "ba6e33db",
   "metadata": {},
   "source": [
    "You can do anything at <https://html5zombo.com>\n",
    "\n",
    "![](https://commonmark.org/help/images/favicon.png)"
   ]
  },
  {
   "cell_type": "markdown",
   "id": "c2f27c96",
   "metadata": {},
   "source": [
    "![](https://upload.wikimedia.org/wikipedia/commons/d/db/Logo_ITESO_normal.jpg)"
   ]
  },
  {
   "cell_type": "markdown",
   "id": "31a212e4",
   "metadata": {},
   "source": [
    "<img style=\"float:center\" src=\"https://upload.wikimedia.org/wikipedia/commons/d/db/Logo_ITESO_normal.jpg\" width=\"150px\"/>"
   ]
  },
  {
   "cell_type": "markdown",
   "id": "f65cb7b2",
   "metadata": {},
   "source": [
    "<img style=\"float:center\" src=\"Meme.jpg\" width=\"150px\"/>"
   ]
  },
  {
   "cell_type": "markdown",
   "id": "641020bc",
   "metadata": {},
   "source": [
    "$x^2 + xy + y^4 + z_2 = \\frac{z_3}{4}$"
   ]
  }
 ],
 "metadata": {
  "kernelspec": {
   "display_name": "Python 3",
   "language": "python",
   "name": "python3"
  },
  "language_info": {
   "codemirror_mode": {
    "name": "ipython",
    "version": 3
   },
   "file_extension": ".py",
   "mimetype": "text/x-python",
   "name": "python",
   "nbconvert_exporter": "python",
   "pygments_lexer": "ipython3",
   "version": "3.8.9"
  }
 },
 "nbformat": 4,
 "nbformat_minor": 5
}
