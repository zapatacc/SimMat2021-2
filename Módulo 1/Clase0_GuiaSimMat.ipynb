{
 "cells": [
  {
   "cell_type": "markdown",
   "metadata": {},
   "source": [
    "___\n",
    "<img style=\"float: right; margin: 0px 0px 15px 15px;\" src=\"https://upload.wikimedia.org/wikipedia/commons/thumb/4/4a/Python3-powered_hello-world.svg/1000px-Python3-powered_hello-world.svg.png\" width=\"300px\" height=\"100px\" />\n",
    "\n",
    "\n",
    "# <font color= #8A0829> Simulación matemática.</font>\n",
    "\n",
    "- <Strong> Cristian Camilo Zapata Zuluaga </Strong>\n",
    "- <Strong> Año: </Strong> 2021 - Otoño\n",
    "- <Strong> Copyright: </Strong> Public Domain como en [CC](https://creativecommons.org/licenses/by/2.0/) (Exepto donde se indique lo contrario)\n",
    "\n",
    "- <Strong> Email: </Strong>  <font color=\"blue\"> cristianz@iteso.mx, zapatacc@gmail.com </font>\n",
    "___"
   ]
  },
  {
   "cell_type": "markdown",
   "metadata": {},
   "source": [
    "## `Presentación de ustedes`\n",
    "___"
   ]
  },
  {
   "cell_type": "markdown",
   "metadata": {},
   "source": [
    "## `Algunas reglas de juego`\n",
    "+ Se tomará asistencia dentro de los 15 primeros minutos de la clase. Si no contesta, se tomará con inasistencia.\n",
    "+ Si durante la clase se le hace alguna pregunta a algún estudiante y no responde, se tomará como inasistencia. Es decir, el estudiante debe estar disponible en cualquier momento que el profesor lo solicite.\n",
    "+ **Regla de oro:** Todas las entregas (Trabajos, tareas) se realizan a través de `canvas` con los plazos asignados. No se aceptan trabajos fuera de la plataforma ni fuera de plazo. No insistan en este punto, no hay negocio.\n",
    "___"
   ]
  },
  {
   "cell_type": "markdown",
   "metadata": {},
   "source": [
    "___\n",
    "## `Horario de asesoría`\n",
    "\n",
    "Horarios disponibles: \n",
    "- Miércoles 18:00-19:00. Definido.\n",
    "- Jueves 18:00-19:00\n",
    "___"
   ]
  },
  {
   "cell_type": "markdown",
   "metadata": {},
   "source": [
    "## `Descripción de la asignatura`\n",
    "\n",
    "**Este es un curso básico de simulación utilizando python, por ende vamos a iniciar elaborando programas simples y conforme avancemos el nivel de exigencia aumentará, hasta donde el tiempo nos permita.**\n",
    "\n",
    "- Problemas de ingeniería: requieren soluciones adecuadas, eficientes y óptimas.\n",
    "- La simulación matemática de escenarios es una estrategia relevante para resolver tales problemas, consiste en modelar numéricamente los principios físicos y matemáticos que rigen un fenómeno mediante el uso de lenguajes de modelado y herramientas de tecnologías de información.\n",
    "- La asignatura está diseñada para que logres dichos propósitos e inicies un proceso que te permita apropiarte de desempeños profesionales muy útiles en tu formación profesional y en tu futuro, al incorporarte a la industria u organizaciones que te demandarán resolver e implementar la simulación de escenarios bajo diferentes situaciones a través de la sistematización de la solución al problema planteado."
   ]
  },
  {
   "cell_type": "markdown",
   "metadata": {},
   "source": [
    "## `Objetivo general `\n",
    ">  <p style='text-align: justify;'> A partir de la modelación de fenómenos físicos desarrollarás las competencias necesarias para reproducir escenarios de aplicación profesional que representen de manera más cercana el fenómeno objetivo. Podrás además realizar inferencias que ayuden a la óptima toma de decisiones en la solución de problemas.</p>"
   ]
  },
  {
   "cell_type": "markdown",
   "metadata": {},
   "source": [
    "## `Temas y subtemas`"
   ]
  },
  {
   "cell_type": "markdown",
   "metadata": {},
   "source": [
    "`Módulo 1.` **Optimización**\n",
    "> Se aplicará una presentación de un **proyecto.**\n",
    "   1. ¿Qué es una simulación? - Instalación de software - Uso de Markdown - ¿Qué es Git?\n",
    "   2. Optimización de funciones de variable escalar con SymPy\n",
    "   3. Programación Lineal\n",
    "   4. Ajuste de curvas\n",
    "   5. Clasificación binaria (Regresión Logística)"
   ]
  },
  {
   "cell_type": "markdown",
   "metadata": {},
   "source": [
    "`Módulo 2.`  **Montecarlo**\n",
    "> Se aplicará una presentación de **proyecto.**\n",
    "   1. Generación de números aleatorios\n",
    "   2. Caminata aleatoria\n",
    "   3. Integrales\n",
    "   4. Fractales aleatorios\n",
    "   5. Bajar y organizar datos de Yahoo Finance (Pandas)\n",
    "   6. Probabilidad precio-umbral"
   ]
  },
  {
   "cell_type": "markdown",
   "metadata": {},
   "source": [
    "`Módulo 3.`  **Ecuaciones diferenciales**\n",
    "> Se aplicará una presentación de **proyecto.**\n",
    "   1. Introducción a ecuaciones diferenciales\n",
    "   2. ¿Cómo se mueve un péndulo?\n",
    "   3. ¿Cómo crece una población?\n",
    "   4. Modelo del rendimiento de una cuenta de ahorro"
   ]
  },
  {
   "cell_type": "markdown",
   "metadata": {},
   "source": [
    "## `Evaluación`\n",
    "\n",
    "- **3 Proyectos (trabajo en equipo) 45%**\n",
    " - Cada proyecto tiene el mismo valor (15%)\n",
    "  - La evaluación de cada proyecto se divide en dos partes \n",
    "   - Reporte     7.5%\n",
    "   - Exposición  7.5%\n",
    " - <font color=\"red\">Equipos de 2 integrantes mínimo y 3 máximo. **Esto no se negocia**</font>.\n",
    " - Si durante algún proyecto las cosas no funcionan entre los integrantes, para el siguiente proyecto se pueden formar equipos nuevos. \n",
    "- **Exámen final 19%**\n",
    "- **Quices 16%**\n",
    "- **Tareas y actividades de clase 20%**\n"
   ]
  },
  {
   "cell_type": "code",
   "execution_count": null,
   "metadata": {},
   "outputs": [],
   "source": []
  },
  {
   "cell_type": "markdown",
   "metadata": {},
   "source": [
    "## `Calificación final:` \n",
    "\n",
    "+ Toda calificación que tengan valores decimales menores o iguales a 5 en la posición de las décimas se redondeará al número entero inferior más cercano. Por ejemplo 8.5 sería 8.\n",
    "\n",
    "+ Cuando sean mayor que (estricto) 5 en la posición de decimales se redondeará al número entero mayor más cercano. Por ejemplo 8.6 sería 9. \n",
    "\n",
    "+ Dicho procedimiento de redondeo NO aplica cuando la calificación es menor a 6, es decir 5.9 será 5."
   ]
  },
  {
   "cell_type": "markdown",
   "metadata": {},
   "source": [
    "## `Respecto a las entregas:` \n",
    "\n",
    "Todas las tareas, trabajos y exámenes tendrán una fecha de entrega correspondiente, la cuál será definida durante la clase.\n",
    "\n",
    "La entrega SIEMPRE será a través de la plataforma CANVAS.  \n",
    "\n",
    "Cualquier entrega fuera de los horarios establecidos quedará a consideración del profesor si se califica con una respectiva penalización:  \n",
    "+ Con **una (1) hora o menos de retraso** en la entrega, se calificará sobre una nota de 8, \n",
    "+ Con **dos (2) horas o menos (pero más de 1 hora) de retraso** en la entrega, se calificará sobre una nota de 7. \n",
    "+ Si la entrega tiene **dos (2) horas o más de retraso** se revisará la entrega, se devolverá con las respectivas correcciones pero NO se calificará la entrega."
   ]
  },
  {
   "cell_type": "markdown",
   "metadata": {},
   "source": [
    "### `Bibliografía `"
   ]
  },
  {
   "cell_type": "markdown",
   "metadata": {},
   "source": [
    "- Process Dynamics: Modeling, Analysis and Simulation by B. Wayne Bequette\n",
    "- Stochastic Simulation and Applications in Finance with MATLAB Programs by HuuTueHuynh\n",
    "- Fluent Python by Ramalho, Luciano \n",
    "- Python for Finance  by Hilpisch, Yves \n",
    "- Python for Scientists by Stewart, John M. \n",
    "- Mathematical Modeling in Continuum Mechanics by Temam & Miranville```\n",
    "Estos y muchos mas libros los pueden encontrar en la Biblioteca."
   ]
  }
 ],
 "metadata": {
  "anaconda-cloud": {},
  "kernelspec": {
   "display_name": "Python 3",
   "language": "python",
   "name": "python3"
  },
  "language_info": {
   "codemirror_mode": {
    "name": "ipython",
    "version": 3
   },
   "file_extension": ".py",
   "mimetype": "text/x-python",
   "name": "python",
   "nbconvert_exporter": "python",
   "pygments_lexer": "ipython3",
   "version": "3.7.6"
  }
 },
 "nbformat": 4,
 "nbformat_minor": 1
}
